{
 "cells": [
  {
   "cell_type": "code",
   "execution_count": 10,
   "metadata": {},
   "outputs": [
    {
     "name": "stdout",
     "output_type": "stream",
     "text": [
      "<class 'datetime.datetime'>\n",
      "2022-02-03 02:06:00\n"
     ]
    }
   ],
   "source": [
    "from datetime import datetime\n",
    "\n",
    "# datetime_str = '09/19/18 13:55:26'\n",
    "\n",
    "datetime_str = '2022-02-03 02:06:00'\n",
    "\n",
    "datetime_object = datetime.strptime(datetime_str, '%Y-%m-%d %H:%M:%S')\n",
    "\n",
    "print(type(datetime_object))\n",
    "print(datetime_object)  # printed in default format"
   ]
  },
  {
   "cell_type": "code",
   "execution_count": 42,
   "metadata": {},
   "outputs": [
    {
     "name": "stdout",
     "output_type": "stream",
     "text": [
      "Solar ange is: 21.638488594190132 degrees at 2022-02-03 02:06:00+00:00\n",
      "Solar Azimuth is: 129.85576357874154 degrees at 2022-02-03 02:06:00+00:00\n",
      "Sunrise:: 2022-02-03 00:01:30\n",
      "Sunset:: 2022-02-03 10:35:40\n",
      "Sunrise is: 2022-02-03 00:01:30.816044+00:00\n",
      "Solar Noon is: 2022-02-03 05:18:35.491141+00:00\n",
      "Sunset is: 2022-02-03 10:35:40.166238+00:00\n"
     ]
    }
   ],
   "source": [
    "from pysolar.solar import *\n",
    "from pysolar.util import *\n",
    "# import pysolar\n",
    "from datetime import timezone\n",
    "from datetime import datetime\n",
    "\n",
    "date_time_str = '2022-02-03 02:06:00'\n",
    "date_time_obj = datetime.strptime(date_time_str, '%Y-%m-%d %H:%M:%S').replace(tzinfo=timezone.utc)\n",
    "\n",
    "latitude = 34.271\n",
    "longitude = 103.792\n",
    "\n",
    "solar_altitude = get_altitude(latitude, longitude, date_time_obj)\n",
    "solar_azimuth = get_azimuth(latitude, longitude, date_time_obj)\n",
    "sunrise = get_sunrise_time(latitude, longitude, date_time_obj)\n",
    "sunset = get_sunset_time(latitude, longitude, date_time_obj)\n",
    "transit = get_sunrise_sunset_transit(latitude, longitude, date_time_obj)\n",
    "\n",
    "print(f\"Solar angle is: {solar_altitude} degrees at {date_time_obj}\")\n",
    "print(f\"Solar Azimuth is: {solar_azimuth} degrees at {date_time_obj}\")\n",
    "\n",
    "print(f\"Sunrise:: {sunrise.strftime('%Y-%m-%d %H:%M:%S')}\")\n",
    "print(f\"Sunset:: {sunset.strftime('%Y-%m-%d %H:%M:%S')}\")\n",
    "\n",
    "# or you can get the sunruse_sunset_transit back as a Tuple\n",
    "\n",
    "print(f\"Sunrise is: {transit[0]}\")\n",
    "print(f\"Solar Noon is: {transit[2]}\")\n",
    "print(f\"Sunset is: {transit[1]}\")\n"
   ]
  }
 ],
 "metadata": {
  "interpreter": {
   "hash": "c24598127790dff1bbb08ea400ced7bfccb01324bfc70ba39ac0819a14ddd648"
  },
  "kernelspec": {
   "display_name": "Python 3.8.12 64-bit ('3.8.12': pyenv)",
   "language": "python",
   "name": "python3"
  },
  "language_info": {
   "codemirror_mode": {
    "name": "ipython",
    "version": 3
   },
   "file_extension": ".py",
   "mimetype": "text/x-python",
   "name": "python",
   "nbconvert_exporter": "python",
   "pygments_lexer": "ipython3",
   "version": "3.8.12"
  },
  "orig_nbformat": 4
 },
 "nbformat": 4,
 "nbformat_minor": 2
}
